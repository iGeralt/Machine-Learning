{
 "metadata": {
  "language_info": {
   "codemirror_mode": {
    "name": "ipython",
    "version": 3
   },
   "file_extension": ".py",
   "mimetype": "text/x-python",
   "name": "python",
   "nbconvert_exporter": "python",
   "pygments_lexer": "ipython3",
   "version": "3.8.5-final"
  },
  "orig_nbformat": 2,
  "kernelspec": {
   "name": "python_defaultSpec_1599243082687",
   "display_name": "Python 3.8.5 64-bit"
  }
 },
 "nbformat": 4,
 "nbformat_minor": 2,
 "cells": [
  {
   "cell_type": "code",
   "execution_count": 2,
   "metadata": {},
   "outputs": [],
   "source": [
    "import tensorflow as tf\n",
    "import numpy as np\n",
    "import cv2"
   ]
  },
  {
   "cell_type": "code",
   "execution_count": 9,
   "metadata": {},
   "outputs": [],
   "source": [
    "# function to Load dataset\n",
    "\n",
    "# Create a-z dataset\n",
    "def load_az_dataset(path):\n",
    "    # Intialise list data and lables\n",
    "    data_az = []\n",
    "    labels_az = []\n",
    "\n",
    "    #Loop over the row of the a-z datset\n",
    "    for row in open(path):\n",
    "        # save each cell of the row in list\n",
    "        row  = row.split(\",\")\n",
    "        label = int(row[0])\n",
    "        image = np.array([int(x) for x in row[1:]],dtype = \"uint8\")\n",
    "\n",
    "        # convert image to 28*28 matrix\n",
    "        image = np.reshape(image,(28,28))\n",
    "\n",
    "        # add image and labels to dataset list\n",
    "        data_az.append(image)\n",
    "        labels_az.append(label)\n",
    "\n",
    "    # Convert the list to numpy array\n",
    "    data_az = np.array(data_az,dtype=\"float32\")\n",
    "    labels_az = np.array(labels_az,dtype=\"int\")\n",
    "\n",
    "    # return 2-tuple of the a-z data and labels\n",
    "    return (data_az,labels_az)\n",
    "\n",
    "# Load mnist dataset\n",
    "def load_mnist_dataset():\n",
    "    # Load mnist dataset and combine test and train data\n",
    "    ((train,train_label),(test,test_label)) = tf.keras.datasets.mnist.load_data()\n",
    "    data = np.vstack([train,test])\n",
    "    labels = np.hstack([train_label,test_label])\n",
    "\n",
    "    return (data,labels)"
   ]
  },
  {
   "cell_type": "code",
   "execution_count": 10,
   "metadata": {},
   "outputs": [],
   "source": [
    "# Load az dataset\n",
    "data_az , labels_az = load_az_dataset(\"/home/stark/Desktop/A_Z Handwritten Data.csv\")\n"
   ]
  },
  {
   "cell_type": "code",
   "execution_count": 11,
   "metadata": {},
   "outputs": [],
   "source": [
    "# Load 09 dataset\n",
    "data_09 , labels_09 = load_mnist_dataset()"
   ]
  },
  {
   "cell_type": "code",
   "execution_count": 15,
   "metadata": {},
   "outputs": [],
   "source": [
    "# Add 10 to labels_az so that first 10 labels can be 0-9 from mnist dataset\n",
    "labels_az += 10\n",
    "\n",
    "# Merge both dataset\n",
    "data = np.vstack([data_09,data_az])\n",
    "labels = np.hstack([labels_09,labels_az])\n",
    "\n",
    "# Resize image to 32*32\n",
    "data = [cv2.resize(image,(32,32)) for image in data]\n",
    "data = np.array(data,dtype=\"float32\")\n",
    "\n",
    "# add a channel dimension to every image in the dataset and scale the\n",
    "# pixel intensities of the images from [0, 255] down to [0, 1]\n",
    "data = np.expand_dims(data, axis=-1)\n",
    "data /= 255.0"
   ]
  },
  {
   "cell_type": "code",
   "execution_count": null,
   "metadata": {},
   "outputs": [],
   "source": []
  }
 ]
}