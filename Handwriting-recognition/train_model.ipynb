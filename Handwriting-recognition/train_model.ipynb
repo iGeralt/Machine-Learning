{
 "metadata": {
  "language_info": {
   "codemirror_mode": {
    "name": "ipython",
    "version": 3
   },
   "file_extension": ".py",
   "mimetype": "text/x-python",
   "name": "python",
   "nbconvert_exporter": "python",
   "pygments_lexer": "ipython3",
   "version": "3.8.5-final"
  },
  "orig_nbformat": 2,
  "kernelspec": {
   "name": "python_defaultSpec_1599161058738",
   "display_name": "Python 3.8.5 64-bit"
  }
 },
 "nbformat": 4,
 "nbformat_minor": 2,
 "cells": [
  {
   "cell_type": "code",
   "execution_count": 1,
   "metadata": {},
   "outputs": [],
   "source": [
    "import tensorflow as tf\n",
    "import numpy as np"
   ]
  },
  {
   "cell_type": "code",
   "execution_count": 10,
   "metadata": {},
   "outputs": [],
   "source": [
    "# function to Load dataset\n",
    "\n",
    "# Create a-z dataset\n",
    "def load_az_dataset(path):\n",
    "    # Intialise list data and lables\n",
    "    data_az = []\n",
    "    labels_az = []\n",
    "\n",
    "    #Loop over the row of the a-z datset\n",
    "    for row in open(path):\n",
    "        # save each cell of the row in list\n",
    "        row  = row.split(\",\")\n",
    "        label = int(row[0])\n",
    "        image = np.array([int(x) for x in row[1:]],dytpe = \"unit8\")\n",
    "\n",
    "        # convert image to 28*28 matrix\n",
    "        image = np.reshape((28,28))\n",
    "\n",
    "        # add image and labels to dataset list\n",
    "        data_az.append(image)\n",
    "        labels_az.append(label)\n",
    "\n",
    "    # Convert the list to numpy array\n",
    "    data_az = np.array(data_az,dytpe=\"float32\")\n",
    "    labels_az = np.array(labels_az,dytpe=\"int\")\n",
    "\n",
    "    # return 2-tuple of the a-z data and labels\n",
    "    return (data_az,labels_az)\n",
    "\n",
    "# Load mnist dataset\n",
    "def load_mnist_dataset():\n",
    "    # Load mnist dataset and combine test and train data\n",
    "    ((train,train_label),(test,test_label)) = tf.keras.datasets.mnist.load_data()\n",
    "    data = np.vstack([train,test])\n",
    "    lables = np.hstack([tran_label,test_label])\n",
    "\n",
    "    return (data,lables)"
   ]
  },
  {
   "cell_type": "code",
   "execution_count": null,
   "metadata": {},
   "outputs": [],
   "source": [
    "# Load dataset\n",
    "data_az , labels_az = load_az_dataset(\"\")"
   ]
  }
 ]
}