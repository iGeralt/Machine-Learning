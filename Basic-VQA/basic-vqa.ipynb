{
 "metadata": {
  "language_info": {
   "codemirror_mode": {
    "name": "ipython",
    "version": 3
   },
   "file_extension": ".py",
   "mimetype": "text/x-python",
   "name": "python",
   "nbconvert_exporter": "python",
   "pygments_lexer": "ipython3",
   "version": "3.8.5-final"
  },
  "orig_nbformat": 2,
  "kernelspec": {
   "name": "Python 3.8.5 64-bit",
   "display_name": "Python 3.8.5 64-bit",
   "metadata": {
    "interpreter": {
     "hash": "767d51c1340bd893661ea55ea3124f6de3c7a262a8b4abca0554b478b1e2ff90"
    }
   }
  }
 },
 "nbformat": 4,
 "nbformat_minor": 2,
 "cells": [
  {
   "cell_type": "code",
   "execution_count": 1,
   "metadata": {},
   "outputs": [],
   "source": [
    "from tensorflow.keras.layers import Input, Conv2D, MaxPooling2D, Flatten, Dense\n",
    "from easy_vqa import get_train_questions, get_test_questions, get_answers, get_train_image_paths, get_test_image_paths\n",
    "from tensorflow.keras.preprocessing.text import Tokenizer\n",
    "from tensorflow.keras.models import Model\n",
    "from tensorflow.keras.optimizers import Adam\n",
    "from tensorflow.keras.preprocessing.image import load_img, img_to_array\n",
    "from tensorflow.keras.utils import to_categorical\n",
    "from tensorflow.keras.callbacks import ModelCheckpoint\n",
    "import numpy as np\n",
    "import tensorflow as tf\n",
    "import matplotlib.pyplot as plt\n",
    "\n",
    "os.environ['TF_FORCE_GPU_ALLOW_GROWTH'] = 'true'"
   ]
  },
  {
   "cell_type": "code",
   "execution_count": 2,
   "metadata": {},
   "outputs": [],
   "source": [
    "# The CNN\n",
    "im_input = Input(shape=(64, 64, 3))\n",
    "x1 = Conv2D(8, 3, padding='same')(im_input)\n",
    "x1 = MaxPooling2D()(x1)\n",
    "x1 = Conv2D(16, 3, padding='same')(x1)\n",
    "x1 = MaxPooling2D()(x1)\n",
    "x1 = Flatten()(x1)\n",
    "# Add a final fully-connected layer after the CNN for good measure\n",
    "x1 = Dense(32, activation='tanh')(x1)"
   ]
  },
  {
   "cell_type": "code",
   "execution_count": 3,
   "metadata": {
    "tags": []
   },
   "outputs": [
    {
     "output_type": "stream",
     "name": "stdout",
     "text": [
      "[0. 1. 1. 1. 0. 0. 0. 0. 1. 0. 0. 0. 0. 0. 0. 0. 0. 0. 0. 0. 0. 0. 0. 0.\n 0. 1. 0.]\n['what is the red shape?', 'what is the color of the triangle?']\n"
     ]
    }
   ],
   "source": [
    "# Read questions\n",
    "# train_qs and test_qs are just arrays of question strings\n",
    "# (we'll use the other variables later)\n",
    "train_qs, train_answers, train_image_ids = get_train_questions()\n",
    "test_qs, test_answers, test_image_ids = get_test_questions()\n",
    "\n",
    "all_answers = get_answers()\n",
    "num_answers = len(all_answers)\n",
    "\n",
    "\n",
    "# Fit tokenizer on the training questions\n",
    "tokenizer = Tokenizer()\n",
    "tokenizer.fit_on_texts(train_qs)\n",
    "\n",
    "# Convert questions to BOW\n",
    "train_X_seqs = tokenizer.texts_to_matrix(train_qs)\n",
    "test_X_seqs = tokenizer.texts_to_matrix(test_qs)\n",
    "\n",
    "# Example BOW:\n",
    "# [0 0 1 1 0 1 0 0 1 0 0 1 1 0 0 0 0 0 0 0 0 0 0 0 0 0 0]\n",
    "print(train_X_seqs[0])\n",
    "print(test_qs[:2])"
   ]
  },
  {
   "cell_type": "code",
   "execution_count": 4,
   "metadata": {},
   "outputs": [],
   "source": [
    "# We add one because the Keras Tokenizer reserves index 0 and never uses it.\n",
    "vocab_size = len(tokenizer.word_index) + 1\n",
    "\n",
    "# The question network\n",
    "q_input = Input(shape=(vocab_size,))\n",
    "x2 = Dense(32, activation='tanh')(q_input)\n",
    "x2 = Dense(32, activation='tanh')(x2)"
   ]
  },
  {
   "cell_type": "code",
   "execution_count": 5,
   "metadata": {},
   "outputs": [],
   "source": [
    "from tensorflow.keras.layers import Multiply\n",
    "out = Multiply()([x1, x2])"
   ]
  },
  {
   "cell_type": "code",
   "execution_count": 6,
   "metadata": {},
   "outputs": [],
   "source": [
    "out = Dense(32, activation='tanh')(out)\n",
    "# num_answers will be defined below\n",
    "out = Dense(num_answers, activation='softmax')(out)"
   ]
  },
  {
   "cell_type": "code",
   "execution_count": 7,
   "metadata": {},
   "outputs": [],
   "source": [
    "model = Model(inputs=[im_input, q_input], outputs=out)\n",
    "model.compile(\n",
    "  Adam(lr=2e-4), # somewhat arbitrarily chosen\n",
    "  loss='categorical_crossentropy',\n",
    "  metrics=['accuracy'],\n",
    ")"
   ]
  },
  {
   "cell_type": "code",
   "execution_count": 8,
   "metadata": {},
   "outputs": [],
   "source": [
    "def load_and_proccess_image(image_path):\n",
    "  # Load image, then scale and shift pixel values to [-0.5, 0.5]\n",
    "  im = img_to_array(load_img(image_path))\n",
    "  return im / 255 - 0.5\n",
    "\n",
    "def read_images(paths):\n",
    "  # paths is a dict mapping image ID to image path\n",
    "  # Returns a dict mapping image ID to the processed image\n",
    "  ims = {}\n",
    "  for image_id, image_path in paths.items():\n",
    "    ims[image_id] = load_and_proccess_image(image_path)\n",
    "  return ims\n",
    "\n",
    "train_ims = read_images(get_train_image_paths())\n",
    "test_ims = read_images(get_test_image_paths())"
   ]
  },
  {
   "cell_type": "code",
   "execution_count": 9,
   "metadata": {},
   "outputs": [],
   "source": [
    "# Create model input images\n",
    "train_X_ims = [train_ims[id] for id in train_image_ids]\n",
    "test_X_ims = [test_ims[id] for id in test_image_ids]\n",
    "\n",
    "train_X_ims = np.array(train_X_ims)\n",
    "test_X_ims = np.array(test_X_ims)\n",
    "\n",
    "# Create model outputs\n",
    "train_answer_indices = [all_answers.index(a) for a in train_answers]\n",
    "test_answer_indices = [all_answers.index(a) for a in test_answers]\n",
    "train_Y = to_categorical(train_answer_indices)\n",
    "test_Y = to_categorical(test_answer_indices)\n",
    "\n",
    "train_Y = np.array(train_Y)\n",
    "test_Y = np.array(test_Y)"
   ]
  },
  {
   "cell_type": "code",
   "execution_count": 10,
   "metadata": {},
   "outputs": [],
   "source": [
    "checkpoint = ModelCheckpoint('model.h5', save_best_only=True)"
   ]
  },
  {
   "cell_type": "code",
   "execution_count": 11,
   "metadata": {},
   "outputs": [
    {
     "output_type": "stream",
     "name": "stdout",
     "text": [
      "Epoch 1/10\n",
      "1206/1206 [==============================] - 31s 26ms/step - loss: 1.0583 - accuracy: 0.6227 - val_loss: 0.7903 - val_accuracy: 0.6831\n",
      "Epoch 2/10\n",
      "1206/1206 [==============================] - 30s 25ms/step - loss: 0.7702 - accuracy: 0.6782 - val_loss: 0.7332 - val_accuracy: 0.6891\n",
      "Epoch 3/10\n",
      "1206/1206 [==============================] - 31s 25ms/step - loss: 0.7234 - accuracy: 0.6882 - val_loss: 0.6942 - val_accuracy: 0.6961\n",
      "Epoch 4/10\n",
      "1206/1206 [==============================] - 30s 25ms/step - loss: 0.6868 - accuracy: 0.6952 - val_loss: 0.6599 - val_accuracy: 0.7078\n",
      "Epoch 5/10\n",
      "1206/1206 [==============================] - 31s 25ms/step - loss: 0.6531 - accuracy: 0.7073 - val_loss: 0.6350 - val_accuracy: 0.7074\n",
      "Epoch 6/10\n",
      "1206/1206 [==============================] - 31s 25ms/step - loss: 0.6217 - accuracy: 0.7138 - val_loss: 0.6053 - val_accuracy: 0.7203\n",
      "Epoch 7/10\n",
      "1206/1206 [==============================] - 31s 25ms/step - loss: 0.5932 - accuracy: 0.7218 - val_loss: 0.5857 - val_accuracy: 0.7291\n",
      "Epoch 8/10\n",
      "1206/1206 [==============================] - 31s 25ms/step - loss: 0.5697 - accuracy: 0.7261 - val_loss: 0.5605 - val_accuracy: 0.7401\n",
      "Epoch 9/10\n",
      "1206/1206 [==============================] - 31s 25ms/step - loss: 0.5481 - accuracy: 0.7354 - val_loss: 0.5430 - val_accuracy: 0.7310\n",
      "Epoch 10/10\n",
      "1206/1206 [==============================] - 18s 15ms/step - loss: 0.5280 - accuracy: 0.7433 - val_loss: 0.5245 - val_accuracy: 0.7414\n"
     ]
    },
    {
     "output_type": "execute_result",
     "data": {
      "text/plain": [
       "<tensorflow.python.keras.callbacks.History at 0x7fe9a43d9130>"
      ]
     },
     "metadata": {},
     "execution_count": 11
    }
   ],
   "source": [
    "# Train the model!\n",
    "model.fit(\n",
    "  \n",
    "  [train_X_ims, train_X_seqs],\n",
    "  train_Y,\n",
    "  validation_data=([test_X_ims, test_X_seqs], test_Y),\n",
    "  shuffle=True,\n",
    "  epochs=10,\n",
    "  callbacks=[checkpoint],\n",
    ")"
   ]
  },
  {
   "cell_type": "code",
   "execution_count": 43,
   "metadata": {},
   "outputs": [],
   "source": [
    "load_model = tf.keras.models.load_model(\"model.h5\")"
   ]
  },
  {
   "cell_type": "code",
   "execution_count": 53,
   "metadata": {},
   "outputs": [
    {
     "output_type": "stream",
     "name": "stderr",
     "text": [
      "Clipping input data to the valid range for imshow with RGB data ([0..1] for floats or [0..255] for integers).\n"
     ]
    },
    {
     "output_type": "execute_result",
     "data": {
      "text/plain": [
       "(1, 64, 64, 3)"
      ]
     },
     "metadata": {},
     "execution_count": 53
    },
    {
     "output_type": "display_data",
     "data": {
      "text/plain": "<Figure size 432x288 with 1 Axes>",
      "image/svg+xml": "<?xml version=\"1.0\" encoding=\"utf-8\" standalone=\"no\"?>\n<!DOCTYPE svg PUBLIC \"-//W3C//DTD SVG 1.1//EN\"\n  \"http://www.w3.org/Graphics/SVG/1.1/DTD/svg11.dtd\">\n<!-- Created with matplotlib (https://matplotlib.org/) -->\n<svg height=\"250.618594pt\" version=\"1.1\" viewBox=\"0 0 251.565 250.618594\" width=\"251.565pt\" xmlns=\"http://www.w3.org/2000/svg\" xmlns:xlink=\"http://www.w3.org/1999/xlink\">\n <metadata>\n  <rdf:RDF xmlns:cc=\"http://creativecommons.org/ns#\" xmlns:dc=\"http://purl.org/dc/elements/1.1/\" xmlns:rdf=\"http://www.w3.org/1999/02/22-rdf-syntax-ns#\">\n   <cc:Work>\n    <dc:type rdf:resource=\"http://purl.org/dc/dcmitype/StillImage\"/>\n    <dc:date>2020-10-23T12:57:13.552953</dc:date>\n    <dc:format>image/svg+xml</dc:format>\n    <dc:creator>\n     <cc:Agent>\n      <dc:title>Matplotlib v3.3.2, https://matplotlib.org/</dc:title>\n     </cc:Agent>\n    </dc:creator>\n   </cc:Work>\n  </rdf:RDF>\n </metadata>\n <defs>\n  <style type=\"text/css\">*{stroke-linecap:butt;stroke-linejoin:round;}</style>\n </defs>\n <g id=\"figure_1\">\n  <g id=\"patch_1\">\n   <path d=\"M 0 250.618594 \nL 251.565 250.618594 \nL 251.565 0 \nL 0 0 \nz\n\" style=\"fill:none;\"/>\n  </g>\n  <g id=\"axes_1\">\n   <g id=\"patch_2\">\n    <path d=\"M 26.925 226.740469 \nL 244.365 226.740469 \nL 244.365 9.300469 \nL 26.925 9.300469 \nz\n\" style=\"fill:#ffffff;\"/>\n   </g>\n   <g clip-path=\"url(#pdc0452c68e)\">\n    <image height=\"218\" id=\"imagedcf6271ecf\" transform=\"scale(1 -1)translate(0 -218)\" width=\"218\" x=\"26.925\" xlink:href=\"data:image/png;base64,\niVBORw0KGgoAAAANSUhEUgAAANoAAADaCAYAAADAHVzbAAAE50lEQVR4nO3du24cVQDH4bHXXpkqZYpNk0sZ4CVwBGlyKSl4hYSCIq9DQQFRpCABUuAVIIoISoMEEkqRLqlYey+mm50zJusNeP/eGX9fdcZjr0e2f3POrsazW/e/eHBUAWu1fdYHAOeB0CBAaBAgNAgQGgQIDQKEBgFCgwChQYDQIEBoECA0CBAaBAgNAoQGAUKDAKFBgNAgQGgQIDQIEBoECA0ChAYBQoMAoUGA0CBAaBAgNAgQGgQIDQKEBgFCgwChQYDQIEBoECA0CBAaBAgNAoQGAUKDAKFBgNAgQGgQIDQIEBoECA0ChAYBQoMAoUGA0CBAaBAgNAgQGgQIDQKEBgFCgwChQYDQIEBoECA0CBAaBAgNAoQGAUKDAKFBgNAgQGgQIDQIEBoECA0ChAYBQoMAoUGA0CBAaBAgNAgQGgQIDQKEBgFCgwChQYDQIEBoECA0CBAaBAgNAoQGAUKDgJ2zPgA2wHRabG6/elWPB09/LvYNXvy20kMeDfcWD79/o9g3H11afN6FCysfZpeZ0SBAaBBg6XhObb15U493f/i+2Df868963D4Tb636DQ7H9XD+3bfFrlljPL51d/F5V66Wj7HTnz9PMxoECA0C+jM3c6Ltly/r8d5XX9bj9h/BysvDVb/vku3B40f1eHz5WvF5k9t3FhsdX0aa0SBAaBAgNAjo9sKXpZov4VdV+bxsN30wb9E80+/98Xu588cn9XDyyc3MAa2JGQ0ChAYBlo5907hAuH3Fx6b/sttn/eHzZ/V49sGHxb75aBQ4otNjRoMAoUGA0CBg05ftvKPmP202r8KvqtO/tGrdmn+cuw+/KfYd3LsfPZb/y4wGAUKDAEvHnhk8/aUe9+ksunP4d7F92LjqpQv3HenT7wI2ltAgwNKxZwYvntfjrr3KuMyxe5e8fl2PLR2BqqqEBhFCgwChQYDQIEBoECA0CBAaBAgNAoQGAS7B6pmj4XuLjdYV71121P5Ax+7Fb0aDAKFBQLfmX0403d+vx+132uzyWXXW2p5fvHgmx/FfdflnD50hNAiwdOyZ+ehSPW4vt7p2Vp03xtPr5S3BveoIHCM0CBAaBHRrocuJmjeqObh1t9g3ePyoHnfhDDtpjvdvnNlxnIYu/Lyh84QGAZaOPTa7crXYHl++Vo+bb8y+KWfbSWv78NPPFhsdezm/bVN+xtBrQoMAoUFAtxe+LNd6XjO5fWex8dOTejj89Vn5ZWs9qPLSqubzsuI5WVVV89FozUeSY0aDAKFBgKXjedJYSk4+vlmPZ++XV8bvPvx68SWH42Lfqmfm5j0+pq19ze83+ahxxUfHX8JfxowGAUKDgP7O1ays/erewb3P63HzTdmrqnynzaUay8Bj9/fo8RLxbcxoECA0CBAaBJy/xTLvpPmPpP+2zWrMaBAgNAgQGgQIDQKEBgFCgwChQYDQIEBoECA0CBAaBAgNAoQGAUKDAKFBgNAgQGgQIDQIEBoECA0ChAYBQoMAoUGA0CBAaBAgNAgQGgQIDQKEBgFCgwChQYDQIEBoECA0CBAaBAgNAoQGAUKDAKFBgNAgQGgQIDQIEBoECA0ChAYBQoMAoUGA0CBAaBAgNAgQGgQIDQKEBgFCgwChQYDQIEBoECA0CBAaBAgNAoQGAUKDAKFBgNAgQGgQIDQIEBoE/AP8xIP92ABv5QAAAABJRU5ErkJggg==\" y=\"-8.740469\"/>\n   </g>\n   <g id=\"matplotlib.axis_1\">\n    <g id=\"xtick_1\">\n     <g id=\"line2d_1\">\n      <defs>\n       <path d=\"M 0 0 \nL 0 3.5 \n\" id=\"mf05c0c4a1f\" style=\"stroke:#000000;stroke-width:0.8;\"/>\n      </defs>\n      <g>\n       <use style=\"stroke:#000000;stroke-width:0.8;\" x=\"28.62375\" xlink:href=\"#mf05c0c4a1f\" y=\"226.740469\"/>\n      </g>\n     </g>\n     <g id=\"text_1\">\n      <!-- 0 -->\n      <g transform=\"translate(25.4425 241.338906)scale(0.1 -0.1)\">\n       <defs>\n        <path d=\"M 31.78125 66.40625 \nQ 24.171875 66.40625 20.328125 58.90625 \nQ 16.5 51.421875 16.5 36.375 \nQ 16.5 21.390625 20.328125 13.890625 \nQ 24.171875 6.390625 31.78125 6.390625 \nQ 39.453125 6.390625 43.28125 13.890625 \nQ 47.125 21.390625 47.125 36.375 \nQ 47.125 51.421875 43.28125 58.90625 \nQ 39.453125 66.40625 31.78125 66.40625 \nz\nM 31.78125 74.21875 \nQ 44.046875 74.21875 50.515625 64.515625 \nQ 56.984375 54.828125 56.984375 36.375 \nQ 56.984375 17.96875 50.515625 8.265625 \nQ 44.046875 -1.421875 31.78125 -1.421875 \nQ 19.53125 -1.421875 13.0625 8.265625 \nQ 6.59375 17.96875 6.59375 36.375 \nQ 6.59375 54.828125 13.0625 64.515625 \nQ 19.53125 74.21875 31.78125 74.21875 \nz\n\" id=\"DejaVuSans-48\"/>\n       </defs>\n       <use xlink:href=\"#DejaVuSans-48\"/>\n      </g>\n     </g>\n    </g>\n    <g id=\"xtick_2\">\n     <g id=\"line2d_2\">\n      <g>\n       <use style=\"stroke:#000000;stroke-width:0.8;\" x=\"62.59875\" xlink:href=\"#mf05c0c4a1f\" y=\"226.740469\"/>\n      </g>\n     </g>\n     <g id=\"text_2\">\n      <!-- 10 -->\n      <g transform=\"translate(56.23625 241.338906)scale(0.1 -0.1)\">\n       <defs>\n        <path d=\"M 12.40625 8.296875 \nL 28.515625 8.296875 \nL 28.515625 63.921875 \nL 10.984375 60.40625 \nL 10.984375 69.390625 \nL 28.421875 72.90625 \nL 38.28125 72.90625 \nL 38.28125 8.296875 \nL 54.390625 8.296875 \nL 54.390625 0 \nL 12.40625 0 \nz\n\" id=\"DejaVuSans-49\"/>\n       </defs>\n       <use xlink:href=\"#DejaVuSans-49\"/>\n       <use x=\"63.623047\" xlink:href=\"#DejaVuSans-48\"/>\n      </g>\n     </g>\n    </g>\n    <g id=\"xtick_3\">\n     <g id=\"line2d_3\">\n      <g>\n       <use style=\"stroke:#000000;stroke-width:0.8;\" x=\"96.57375\" xlink:href=\"#mf05c0c4a1f\" y=\"226.740469\"/>\n      </g>\n     </g>\n     <g id=\"text_3\">\n      <!-- 20 -->\n      <g transform=\"translate(90.21125 241.338906)scale(0.1 -0.1)\">\n       <defs>\n        <path d=\"M 19.1875 8.296875 \nL 53.609375 8.296875 \nL 53.609375 0 \nL 7.328125 0 \nL 7.328125 8.296875 \nQ 12.9375 14.109375 22.625 23.890625 \nQ 32.328125 33.6875 34.8125 36.53125 \nQ 39.546875 41.84375 41.421875 45.53125 \nQ 43.3125 49.21875 43.3125 52.78125 \nQ 43.3125 58.59375 39.234375 62.25 \nQ 35.15625 65.921875 28.609375 65.921875 \nQ 23.96875 65.921875 18.8125 64.3125 \nQ 13.671875 62.703125 7.8125 59.421875 \nL 7.8125 69.390625 \nQ 13.765625 71.78125 18.9375 73 \nQ 24.125 74.21875 28.421875 74.21875 \nQ 39.75 74.21875 46.484375 68.546875 \nQ 53.21875 62.890625 53.21875 53.421875 \nQ 53.21875 48.921875 51.53125 44.890625 \nQ 49.859375 40.875 45.40625 35.40625 \nQ 44.1875 33.984375 37.640625 27.21875 \nQ 31.109375 20.453125 19.1875 8.296875 \nz\n\" id=\"DejaVuSans-50\"/>\n       </defs>\n       <use xlink:href=\"#DejaVuSans-50\"/>\n       <use x=\"63.623047\" xlink:href=\"#DejaVuSans-48\"/>\n      </g>\n     </g>\n    </g>\n    <g id=\"xtick_4\">\n     <g id=\"line2d_4\">\n      <g>\n       <use style=\"stroke:#000000;stroke-width:0.8;\" x=\"130.54875\" xlink:href=\"#mf05c0c4a1f\" y=\"226.740469\"/>\n      </g>\n     </g>\n     <g id=\"text_4\">\n      <!-- 30 -->\n      <g transform=\"translate(124.18625 241.338906)scale(0.1 -0.1)\">\n       <defs>\n        <path d=\"M 40.578125 39.3125 \nQ 47.65625 37.796875 51.625 33 \nQ 55.609375 28.21875 55.609375 21.1875 \nQ 55.609375 10.40625 48.1875 4.484375 \nQ 40.765625 -1.421875 27.09375 -1.421875 \nQ 22.515625 -1.421875 17.65625 -0.515625 \nQ 12.796875 0.390625 7.625 2.203125 \nL 7.625 11.71875 \nQ 11.71875 9.328125 16.59375 8.109375 \nQ 21.484375 6.890625 26.8125 6.890625 \nQ 36.078125 6.890625 40.9375 10.546875 \nQ 45.796875 14.203125 45.796875 21.1875 \nQ 45.796875 27.640625 41.28125 31.265625 \nQ 36.765625 34.90625 28.71875 34.90625 \nL 20.21875 34.90625 \nL 20.21875 43.015625 \nL 29.109375 43.015625 \nQ 36.375 43.015625 40.234375 45.921875 \nQ 44.09375 48.828125 44.09375 54.296875 \nQ 44.09375 59.90625 40.109375 62.90625 \nQ 36.140625 65.921875 28.71875 65.921875 \nQ 24.65625 65.921875 20.015625 65.03125 \nQ 15.375 64.15625 9.8125 62.3125 \nL 9.8125 71.09375 \nQ 15.4375 72.65625 20.34375 73.4375 \nQ 25.25 74.21875 29.59375 74.21875 \nQ 40.828125 74.21875 47.359375 69.109375 \nQ 53.90625 64.015625 53.90625 55.328125 \nQ 53.90625 49.265625 50.4375 45.09375 \nQ 46.96875 40.921875 40.578125 39.3125 \nz\n\" id=\"DejaVuSans-51\"/>\n       </defs>\n       <use xlink:href=\"#DejaVuSans-51\"/>\n       <use x=\"63.623047\" xlink:href=\"#DejaVuSans-48\"/>\n      </g>\n     </g>\n    </g>\n    <g id=\"xtick_5\">\n     <g id=\"line2d_5\">\n      <g>\n       <use style=\"stroke:#000000;stroke-width:0.8;\" x=\"164.52375\" xlink:href=\"#mf05c0c4a1f\" y=\"226.740469\"/>\n      </g>\n     </g>\n     <g id=\"text_5\">\n      <!-- 40 -->\n      <g transform=\"translate(158.16125 241.338906)scale(0.1 -0.1)\">\n       <defs>\n        <path d=\"M 37.796875 64.3125 \nL 12.890625 25.390625 \nL 37.796875 25.390625 \nz\nM 35.203125 72.90625 \nL 47.609375 72.90625 \nL 47.609375 25.390625 \nL 58.015625 25.390625 \nL 58.015625 17.1875 \nL 47.609375 17.1875 \nL 47.609375 0 \nL 37.796875 0 \nL 37.796875 17.1875 \nL 4.890625 17.1875 \nL 4.890625 26.703125 \nz\n\" id=\"DejaVuSans-52\"/>\n       </defs>\n       <use xlink:href=\"#DejaVuSans-52\"/>\n       <use x=\"63.623047\" xlink:href=\"#DejaVuSans-48\"/>\n      </g>\n     </g>\n    </g>\n    <g id=\"xtick_6\">\n     <g id=\"line2d_6\">\n      <g>\n       <use style=\"stroke:#000000;stroke-width:0.8;\" x=\"198.49875\" xlink:href=\"#mf05c0c4a1f\" y=\"226.740469\"/>\n      </g>\n     </g>\n     <g id=\"text_6\">\n      <!-- 50 -->\n      <g transform=\"translate(192.13625 241.338906)scale(0.1 -0.1)\">\n       <defs>\n        <path d=\"M 10.796875 72.90625 \nL 49.515625 72.90625 \nL 49.515625 64.59375 \nL 19.828125 64.59375 \nL 19.828125 46.734375 \nQ 21.96875 47.46875 24.109375 47.828125 \nQ 26.265625 48.1875 28.421875 48.1875 \nQ 40.625 48.1875 47.75 41.5 \nQ 54.890625 34.8125 54.890625 23.390625 \nQ 54.890625 11.625 47.5625 5.09375 \nQ 40.234375 -1.421875 26.90625 -1.421875 \nQ 22.3125 -1.421875 17.546875 -0.640625 \nQ 12.796875 0.140625 7.71875 1.703125 \nL 7.71875 11.625 \nQ 12.109375 9.234375 16.796875 8.0625 \nQ 21.484375 6.890625 26.703125 6.890625 \nQ 35.15625 6.890625 40.078125 11.328125 \nQ 45.015625 15.765625 45.015625 23.390625 \nQ 45.015625 31 40.078125 35.4375 \nQ 35.15625 39.890625 26.703125 39.890625 \nQ 22.75 39.890625 18.8125 39.015625 \nQ 14.890625 38.140625 10.796875 36.28125 \nz\n\" id=\"DejaVuSans-53\"/>\n       </defs>\n       <use xlink:href=\"#DejaVuSans-53\"/>\n       <use x=\"63.623047\" xlink:href=\"#DejaVuSans-48\"/>\n      </g>\n     </g>\n    </g>\n    <g id=\"xtick_7\">\n     <g id=\"line2d_7\">\n      <g>\n       <use style=\"stroke:#000000;stroke-width:0.8;\" x=\"232.47375\" xlink:href=\"#mf05c0c4a1f\" y=\"226.740469\"/>\n      </g>\n     </g>\n     <g id=\"text_7\">\n      <!-- 60 -->\n      <g transform=\"translate(226.11125 241.338906)scale(0.1 -0.1)\">\n       <defs>\n        <path d=\"M 33.015625 40.375 \nQ 26.375 40.375 22.484375 35.828125 \nQ 18.609375 31.296875 18.609375 23.390625 \nQ 18.609375 15.53125 22.484375 10.953125 \nQ 26.375 6.390625 33.015625 6.390625 \nQ 39.65625 6.390625 43.53125 10.953125 \nQ 47.40625 15.53125 47.40625 23.390625 \nQ 47.40625 31.296875 43.53125 35.828125 \nQ 39.65625 40.375 33.015625 40.375 \nz\nM 52.59375 71.296875 \nL 52.59375 62.3125 \nQ 48.875 64.0625 45.09375 64.984375 \nQ 41.3125 65.921875 37.59375 65.921875 \nQ 27.828125 65.921875 22.671875 59.328125 \nQ 17.53125 52.734375 16.796875 39.40625 \nQ 19.671875 43.65625 24.015625 45.921875 \nQ 28.375 48.1875 33.59375 48.1875 \nQ 44.578125 48.1875 50.953125 41.515625 \nQ 57.328125 34.859375 57.328125 23.390625 \nQ 57.328125 12.15625 50.6875 5.359375 \nQ 44.046875 -1.421875 33.015625 -1.421875 \nQ 20.359375 -1.421875 13.671875 8.265625 \nQ 6.984375 17.96875 6.984375 36.375 \nQ 6.984375 53.65625 15.1875 63.9375 \nQ 23.390625 74.21875 37.203125 74.21875 \nQ 40.921875 74.21875 44.703125 73.484375 \nQ 48.484375 72.75 52.59375 71.296875 \nz\n\" id=\"DejaVuSans-54\"/>\n       </defs>\n       <use xlink:href=\"#DejaVuSans-54\"/>\n       <use x=\"63.623047\" xlink:href=\"#DejaVuSans-48\"/>\n      </g>\n     </g>\n    </g>\n   </g>\n   <g id=\"matplotlib.axis_2\">\n    <g id=\"ytick_1\">\n     <g id=\"line2d_8\">\n      <defs>\n       <path d=\"M 0 0 \nL -3.5 0 \n\" id=\"m8c85446bf1\" style=\"stroke:#000000;stroke-width:0.8;\"/>\n      </defs>\n      <g>\n       <use style=\"stroke:#000000;stroke-width:0.8;\" x=\"26.925\" xlink:href=\"#m8c85446bf1\" y=\"10.999219\"/>\n      </g>\n     </g>\n     <g id=\"text_8\">\n      <!-- 0 -->\n      <g transform=\"translate(13.5625 14.798437)scale(0.1 -0.1)\">\n       <use xlink:href=\"#DejaVuSans-48\"/>\n      </g>\n     </g>\n    </g>\n    <g id=\"ytick_2\">\n     <g id=\"line2d_9\">\n      <g>\n       <use style=\"stroke:#000000;stroke-width:0.8;\" x=\"26.925\" xlink:href=\"#m8c85446bf1\" y=\"44.974219\"/>\n      </g>\n     </g>\n     <g id=\"text_9\">\n      <!-- 10 -->\n      <g transform=\"translate(7.2 48.773437)scale(0.1 -0.1)\">\n       <use xlink:href=\"#DejaVuSans-49\"/>\n       <use x=\"63.623047\" xlink:href=\"#DejaVuSans-48\"/>\n      </g>\n     </g>\n    </g>\n    <g id=\"ytick_3\">\n     <g id=\"line2d_10\">\n      <g>\n       <use style=\"stroke:#000000;stroke-width:0.8;\" x=\"26.925\" xlink:href=\"#m8c85446bf1\" y=\"78.949219\"/>\n      </g>\n     </g>\n     <g id=\"text_10\">\n      <!-- 20 -->\n      <g transform=\"translate(7.2 82.748437)scale(0.1 -0.1)\">\n       <use xlink:href=\"#DejaVuSans-50\"/>\n       <use x=\"63.623047\" xlink:href=\"#DejaVuSans-48\"/>\n      </g>\n     </g>\n    </g>\n    <g id=\"ytick_4\">\n     <g id=\"line2d_11\">\n      <g>\n       <use style=\"stroke:#000000;stroke-width:0.8;\" x=\"26.925\" xlink:href=\"#m8c85446bf1\" y=\"112.924219\"/>\n      </g>\n     </g>\n     <g id=\"text_11\">\n      <!-- 30 -->\n      <g transform=\"translate(7.2 116.723437)scale(0.1 -0.1)\">\n       <use xlink:href=\"#DejaVuSans-51\"/>\n       <use x=\"63.623047\" xlink:href=\"#DejaVuSans-48\"/>\n      </g>\n     </g>\n    </g>\n    <g id=\"ytick_5\">\n     <g id=\"line2d_12\">\n      <g>\n       <use style=\"stroke:#000000;stroke-width:0.8;\" x=\"26.925\" xlink:href=\"#m8c85446bf1\" y=\"146.899219\"/>\n      </g>\n     </g>\n     <g id=\"text_12\">\n      <!-- 40 -->\n      <g transform=\"translate(7.2 150.698437)scale(0.1 -0.1)\">\n       <use xlink:href=\"#DejaVuSans-52\"/>\n       <use x=\"63.623047\" xlink:href=\"#DejaVuSans-48\"/>\n      </g>\n     </g>\n    </g>\n    <g id=\"ytick_6\">\n     <g id=\"line2d_13\">\n      <g>\n       <use style=\"stroke:#000000;stroke-width:0.8;\" x=\"26.925\" xlink:href=\"#m8c85446bf1\" y=\"180.874219\"/>\n      </g>\n     </g>\n     <g id=\"text_13\">\n      <!-- 50 -->\n      <g transform=\"translate(7.2 184.673437)scale(0.1 -0.1)\">\n       <use xlink:href=\"#DejaVuSans-53\"/>\n       <use x=\"63.623047\" xlink:href=\"#DejaVuSans-48\"/>\n      </g>\n     </g>\n    </g>\n    <g id=\"ytick_7\">\n     <g id=\"line2d_14\">\n      <g>\n       <use style=\"stroke:#000000;stroke-width:0.8;\" x=\"26.925\" xlink:href=\"#m8c85446bf1\" y=\"214.849219\"/>\n      </g>\n     </g>\n     <g id=\"text_14\">\n      <!-- 60 -->\n      <g transform=\"translate(7.2 218.648437)scale(0.1 -0.1)\">\n       <use xlink:href=\"#DejaVuSans-54\"/>\n       <use x=\"63.623047\" xlink:href=\"#DejaVuSans-48\"/>\n      </g>\n     </g>\n    </g>\n   </g>\n   <g id=\"patch_3\">\n    <path d=\"M 26.925 226.740469 \nL 26.925 9.300469 \n\" style=\"fill:none;stroke:#000000;stroke-linecap:square;stroke-linejoin:miter;stroke-width:0.8;\"/>\n   </g>\n   <g id=\"patch_4\">\n    <path d=\"M 244.365 226.740469 \nL 244.365 9.300469 \n\" style=\"fill:none;stroke:#000000;stroke-linecap:square;stroke-linejoin:miter;stroke-width:0.8;\"/>\n   </g>\n   <g id=\"patch_5\">\n    <path d=\"M 26.925 226.740469 \nL 244.365 226.740469 \n\" style=\"fill:none;stroke:#000000;stroke-linecap:square;stroke-linejoin:miter;stroke-width:0.8;\"/>\n   </g>\n   <g id=\"patch_6\">\n    <path d=\"M 26.925 9.300469 \nL 244.365 9.300469 \n\" style=\"fill:none;stroke:#000000;stroke-linecap:square;stroke-linejoin:miter;stroke-width:0.8;\"/>\n   </g>\n  </g>\n </g>\n <defs>\n  <clipPath id=\"pdc0452c68e\">\n   <rect height=\"217.44\" width=\"217.44\" x=\"26.925\" y=\"9.300469\"/>\n  </clipPath>\n </defs>\n</svg>\n",
      "image/png": "[encoded data removed]"
     },
     "metadata": {
      "needs_background": "light"
     }
    }
   ],
   "source": [
    "# Take an image from test set\n",
    "\n",
    "test_image = test_X_ims[100]\n",
    "plt.imshow(test_image)\n",
    "test_image = np.array(test_image)\n",
    "test_image = np.expand_dims(test_image,0)\n",
    "test_image.shape"
   ]
  },
  {
   "cell_type": "code",
   "execution_count": 54,
   "metadata": {},
   "outputs": [
    {
     "output_type": "execute_result",
     "data": {
      "text/plain": [
       "(1, 27)"
      ]
     },
     "metadata": {},
     "execution_count": 54
    }
   ],
   "source": [
    "# Write a question for the given image\n",
    "\n",
    "question = [\"what is the colour of the object?\"]\n",
    "question_t = tokenizer.texts_to_matrix(question)\n",
    "question_t = np.array(question_t)\n",
    "question_t.shape"
   ]
  },
  {
   "cell_type": "code",
   "execution_count": 59,
   "metadata": {},
   "outputs": [],
   "source": [
    "one_predictions = load_model.predict([test_image, question_t])"
   ]
  },
  {
   "cell_type": "code",
   "execution_count": 60,
   "metadata": {},
   "outputs": [
    {
     "output_type": "execute_result",
     "data": {
      "text/plain": [
       "array([[5.6792987e-03, 5.8664818e-04, 5.5997080e-01, 2.0053610e-02,\n",
       "        8.4755867e-04, 1.1263676e-03, 9.3623877e-02, 6.1474517e-03,\n",
       "        1.6584281e-04, 2.1778473e-03, 2.5677326e-01, 5.1906653e-02,\n",
       "        9.4075518e-04]], dtype=float32)"
      ]
     },
     "metadata": {},
     "execution_count": 60
    }
   ],
   "source": [
    "one_predictions"
   ]
  },
  {
   "cell_type": "code",
   "execution_count": 61,
   "metadata": {},
   "outputs": [
    {
     "output_type": "execute_result",
     "data": {
      "text/plain": [
       "2"
      ]
     },
     "metadata": {},
     "execution_count": 61
    }
   ],
   "source": [
    "np.argmax(one_predictions)"
   ]
  },
  {
   "cell_type": "code",
   "execution_count": 62,
   "metadata": {},
   "outputs": [
    {
     "output_type": "execute_result",
     "data": {
      "text/plain": [
       "'red'"
      ]
     },
     "metadata": {},
     "execution_count": 62
    }
   ],
   "source": [
    "all_answers[np.argmax(one_predictions)]\n"
   ]
  },
  {
   "cell_type": "code",
   "execution_count": 50,
   "metadata": {},
   "outputs": [
    {
     "output_type": "stream",
     "name": "stdout",
     "text": [
      "\nStatistics for answer 0, circle\nMin: 2.9436811018968e-05, Max: 0.5361816883087158, Mean: 0.04237091913819313\n\nStatistics for answer 1, green\nMin: 1.4614980727856164e-06, Max: 0.6708670854568481, Mean: 0.019010111689567566\n\nStatistics for answer 2, red\nMin: 1.542876816529315e-05, Max: 0.7949628233909607, Mean: 0.01737716607749462\n\nStatistics for answer 3, gray\nMin: 1.7878837752505206e-05, Max: 0.40366101264953613, Mean: 0.01568651758134365\n\nStatistics for answer 4, yes\nMin: 2.0412771846167743e-05, Max: 0.9921601414680481, Mean: 0.36548733711242676\n\nStatistics for answer 5, teal\nMin: 1.0776385352073703e-05, Max: 0.6648666262626648, Mean: 0.018261481076478958\n\nStatistics for answer 6, black\nMin: 1.3321432561497204e-05, Max: 0.45122161507606506, Mean: 0.017009977251291275\n\nStatistics for answer 7, rectangle\nMin: 5.5779502872610465e-05, Max: 0.5286158323287964, Mean: 0.047373831272125244\n\nStatistics for answer 8, yellow\nMin: 8.742137538320094e-07, Max: 0.6009628176689148, Mean: 0.015497282147407532\n\nStatistics for answer 9, triangle\nMin: 2.1223831936367787e-05, Max: 0.41994017362594604, Mean: 0.04059285297989845\n\nStatistics for answer 10, brown\nMin: 2.48671458393801e-05, Max: 0.425497829914093, Mean: 0.012812660075724125\n\nStatistics for answer 11, blue\nMin: 1.653574508964084e-05, Max: 0.9922379851341248, Mean: 0.017584946006536484\n\nStatistics for answer 12, no\nMin: 4.4089965740568005e-06, Max: 0.9942427277565002, Mean: 0.37093493342399597\n"
     ]
    }
   ],
   "source": [
    "# evalution\n",
    "predictions = load_model.predict([test_X_ims, test_X_seqs])\n",
    "\n",
    "# Stats for each answer\n",
    "for idx in range(num_answers):\n",
    "\tpred_values = predictions[:, idx]\n",
    "\tanswer = all_answers[idx]\n",
    "\tprint(f'\\nStatistics for answer {idx}, {answer}')\n",
    "\tmin = np.amin(pred_values)\n",
    "\tmax = np.amax(pred_values)\n",
    "\tmean = np.mean(pred_values)\n",
    "\tprint(f'Min: {min}, Max: {max}, Mean: {mean}')\n",
    "\n"
   ]
  },
  {
   "cell_type": "code",
   "execution_count": 51,
   "metadata": {},
   "outputs": [
    {
     "output_type": "stream",
     "name": "stdout",
     "text": [
      "total error: 0.2585547399979324\nIndexes are, in order, shapes, yes/no, colors\nRows are class of answer, columns are class of prediction\n0.3158736505397841\t0.0\t0.0\n\n0.0\t0.4958016793282687\t0.0\n\n0.0\t0.0\t0.18832467013194723\n\n-------------\n0\t0\t0\t0\t0\t0\t0\t195\t0\t169\t0\t0\t0\t\n0\t0\t0\t0\t0\t1\t0\t0\t18\t0\t0\t0\t0\t\n0\t0\t0\t0\t0\t6\t3\t0\t0\t0\t14\t18\t0\t\n0\t0\t0\t0\t0\t48\t30\t0\t0\t0\t0\t0\t0\t\n0\t0\t0\t0\t0\t0\t0\t0\t0\t0\t0\t0\t617\t\n0\t0\t0\t4\t0\t0\t2\t0\t0\t0\t0\t0\t0\t\n0\t0\t4\t30\t0\t14\t0\t0\t0\t0\t11\t0\t0\t\n73\t0\t0\t0\t0\t0\t0\t0\t0\t164\t0\t0\t0\t\n0\t141\t0\t0\t0\t1\t0\t0\t0\t0\t4\t1\t0\t\n36\t0\t0\t0\t0\t0\t0\t153\t0\t0\t0\t0\t0\t\n0\t0\t85\t2\t0\t4\t23\t0\t0\t0\t0\t3\t0\t\n0\t0\t1\t0\t0\t1\t0\t0\t0\t0\t2\t0\t0\t\n0\t0\t0\t0\t623\t0\t0\t0\t0\t0\t0\t0\t0\t\n-------------\n{'is a triangle present?': 25, 'is there a blue shape?': 10, 'is a yellow shape present?': 12, 'does the image not contain a yellow shape?': 11, 'is a circle present?': 31, 'is there not a circle in the image?': 24, 'is there not a brown shape?': 15, 'is there a circle?': 32, 'is there a black shape?': 12, 'is there not a black shape?': 10, 'is no black shape present?': 9, 'is there a red shape?': 15, 'does the image contain a red shape?': 8, 'is there a rectangle in the image?': 30, 'is no rectangle present?': 28, 'is there not a yellow shape?': 9, 'is there not a blue shape in the image?': 9, 'is there not a green shape?': 12, 'is there not a circle?': 28, 'does the image not contain a circle?': 28, 'is there not a triangle in the image?': 24, 'is there not a green shape in the image?': 8, 'is no green shape present?': 12, 'is no blue shape present?': 7, 'does the image not contain a rectangle?': 31, 'is no red shape present?': 12, 'does the image not contain a gray shape?': 10, 'does the image contain a rectangle?': 35, 'is a rectangle present?': 32, 'is there a yellow shape?': 6, 'is there a green shape?': 10, 'is there a triangle?': 24, 'is a teal shape present?': 12, 'is there a yellow shape in the image?': 11, 'is there not a rectangle?': 23, 'is a brown shape present?': 7, 'is there not a brown shape in the image?': 13, 'is no circle present?': 26, 'is there not a rectangle in the image?': 32, 'is there a brown shape in the image?': 6, 'is no brown shape present?': 9, 'is there a red shape in the image?': 15, 'is no triangle present?': 21, 'does the image not contain a brown shape?': 12, 'does the image not contain a triangle?': 18, 'is there a blue shape in the image?': 8, 'is there not a triangle?': 25, 'is there a gray shape?': 8, 'does the image contain a yellow shape?': 9, 'is there not a gray shape in the image?': 12, 'is there a rectangle?': 24, 'is there a circle in the image?': 24, 'is there a gray shape in the image?': 12, 'is a gray shape present?': 12, 'does the image contain a triangle?': 18, 'is there a triangle in the image?': 21, 'is a green shape present?': 9, 'does the image not contain a teal shape?': 13, 'does the image contain a green shape?': 7, 'does the image not contain a green shape?': 13, 'is there a teal shape?': 6, 'is no teal shape present?': 9, 'is there a green shape in the image?': 7, 'is there not a teal shape?': 6, 'is no gray shape present?': 11, 'is there not a yellow shape in the image?': 9, 'does the image contain a gray shape?': 10, 'is there not a blue shape?': 7, 'is there a teal shape in the image?': 12, 'does the image contain a brown shape?': 10, 'does the image not contain a blue shape?': 5, 'does the image contain a black shape?': 9, 'is a black shape present?': 11, 'does the image contain a teal shape?': 7, 'does the image not contain a black shape?': 10, 'does the image not contain a red shape?': 4, 'does the image contain a blue shape?': 10, 'is no yellow shape present?': 6, 'is there not a black shape in the image?': 10, 'is a red shape present?': 6, 'is there not a red shape?': 12, 'does the image contain a circle?': 23, 'is there a brown shape?': 8, 'is there not a teal shape in the image?': 12, 'is there not a gray shape?': 5, 'is there a black shape in the image?': 9, 'is there not a red shape in the image?': 10, 'is a blue shape present?': 7}\n"
     ]
    }
   ],
   "source": [
    "shapes = []\n",
    "yesno = []\n",
    "for i in range(num_answers):\n",
    "  if (all_answers[i] == 'rectangle' or all_answers[i] == 'circle' or all_answers[i] == 'triangle'):\n",
    "    shapes.append(i)\n",
    "  elif all_answers[i] == 'yes' or all_answers[i] == 'no':\n",
    "    yesno.append(i)\n",
    "\n",
    "def return_class(answer):\n",
    "  if answer in shapes:\n",
    "    return 0\n",
    "  if answer in yesno:\n",
    "    return 1\n",
    "  return 2\n",
    "error_matrix = [[0 for _ in range(3)] for _ in range(3)]\n",
    "total_errors = 0\n",
    "\n",
    "color_error_matrix = [[0 for _ in range(num_answers)] for _ in range(num_answers)]\n",
    "questions_wrong = {}\n",
    "\n",
    "for idx in range(len(test_answer_indices)):\n",
    "  # answer numbers for triangle, circle, rectangle\n",
    "  answer = test_answer_indices[idx]\n",
    "  pred = np.argmax(predictions[idx])\n",
    "  if not answer == pred:\n",
    "    total_errors += 1\n",
    "    error_matrix[return_class(answer)][return_class(pred)] += 1\n",
    "    color_error_matrix[answer][pred] += 1\n",
    "    if (return_class(answer) == 1 and return_class(pred) == 1):\n",
    "      if test_qs[idx] in questions_wrong:\n",
    "        questions_wrong[test_qs[idx]] += 1\n",
    "      else:\n",
    "        questions_wrong[test_qs[idx]] = 1\n",
    "\n",
    "print('total error: {}'.format(total_errors / len(test_answer_indices)))\n",
    "print('Indexes are, in order, shapes, yes/no, colors')\n",
    "print('Rows are class of answer, columns are class of prediction')\n",
    "for i in range(3):\n",
    "  print('{}\\t{}\\t{}\\n'.format(error_matrix[i][0] / total_errors, error_matrix[i][1] / total_errors, error_matrix[i][2]/ total_errors))\n",
    "print('-------------')\n",
    "for i in range(num_answers):\n",
    "  to_print = ''\n",
    "  for j in range(num_answers):\n",
    "    to_print += str(color_error_matrix[i][j]) + '\\t'\n",
    "  print(to_print)\n",
    "print('-------------')\n",
    "print(questions_wrong)"
   ]
  },
  {
   "cell_type": "code",
   "execution_count": null,
   "metadata": {},
   "outputs": [],
   "source": []
  }
 ]
}